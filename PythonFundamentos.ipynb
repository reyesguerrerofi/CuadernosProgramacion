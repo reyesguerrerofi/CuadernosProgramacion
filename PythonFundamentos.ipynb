{
 "cells": [
  {
   "cell_type": "markdown",
   "id": "e8afeb9e",
   "metadata": {},
   "source": [
    "## Fundamentos de programación (Guia para pendejxs)\n",
    "\n",
    "<img src=\"http://img.desmotivaciones.es/202009/animales-sargento-imagenes.jpg\" width=\"200\"/>\n",
    "\n",
    "### Bueno y... ¿que es la programación?\n",
    "\n",
    "Sin tantos rodeos, la programación es una manera en la que podemos decirle a una computadora que hacer con la información que introducimos. Asi de facil? Bueno no tanto, entre lo que queremos que haga la computadora y que esta lo consiga hay un camino mas o menos empedrado;pero...que cosa que vale la pena en la vida no lo es?. \n",
    "\n",
    "Cuando tu programas algo lo que obtienes generalmente es un programa, que despues ejecutaras de alguna manera en tu equipo. Dentro de estos programas es donde se encuentra toda la magia en el caso de la programación esta magia es el **codigo**. \n",
    "\n",
    "\n",
    "### ¿Y qué es el codigo?\n",
    "\n",
    "Es la columna espinal de la programación. Como mencionamos arriba es lo que permite que le digamos a la computadora que hacer y como hacerlo. Un código de forma muy superficial contiene los siguientes elementos :\n",
    "- **Lenguaje de programación** \n",
    "- **Paradigma**\n",
    "- **Algoritmo**\n",
    "\n",
    "#### Lenguaje de programación\n",
    "Las computadoras basicamente funcionan y entienden instrucciones con unos y ceros (1 y 0). Estos son parte de un sistema llamado __binario__ que permite que a nivel electronico estas operen. Sin embargo, nosotros no hablamos binario; por lo que a lo largo de los años se han ideado formas de que los humanos puedan establecer una comunicación sencilla mas o menos parecida a un lenguaje coloquial con las computadoras. \n",
    "\n",
    "A esta forma de comunicación le llamamos __lenguaje de programación__. Existen muchos y se hablan de distinta forma, tal vez algunos sean mas complicados que otros, a lo mejor hay algunos mas populares en la actualidad o incluso pueden haber lenguajes sumamente extraños desarrollados por algun o alguna estudiante entusiasta de la tecnologá. Pero al final del día todos absolutamente todos sirven para lo mismo, comunicarse con la computadora.\n",
    "\n",
    "#### Paradigma\n",
    "En tus clases de matematicas puede que te hayas encontrado con alguna manera distinta de resolver un ejercicio y te lo han rechazado con el argumento de que ese no era el método enseñado. Bueno podria decirse que intentaste usar otro paradigma al establecido en clase.\n",
    "Un __paradigma__ puede verse como un enfoque usado para estudiar y resolver un problema determinado, existen muchos paradigmas y dependiendo cual se elija el problema puede ser resuelto de una forma mas sencilla o mas complicada. Sin adelantar mucho, en programación existe un paradigma llamado programación orientada a objetos (***POO***); este paradigma establece una manera de como podrian funcionar e interactuar los elementos de un programa entre si. Esto hacer que alguna clase de problemas que se quieren resolver con programación se puedan ver de una manera mas sencilla.\n",
    "\n",
    "#### Algoritmo\n",
    "Es de lo que trata todo esto, una vez escogido el lenguaje, el paradigma y lo que queremos que la computadora haga o resuelva; necesitamos crear un algoritmo.\n",
    "A pesar de que veamos a las computadoras como cosas maravillosas que resuelven todos nuestros problemas, tristemente o afortunadamente necesitan que les digamos que hacer y como hacerlo. Esto lo logramos dandoles una serie de instrucciones que deben seguir para alcanzar un objetivo. Y esto es lo que es un algoritmo, la serie de pasos a seguir.\n",
    "Para verlo de una manera mas sencilla y como a muchos les gusta ejemplificarlo, un algoritmo puede ser entendido como una __receta__. Para preparar un sandwich necesitamos unos ingredientes al inicio y despues con una serie de pasos consecutivos podemos juntar estos ingredientes para obtener al final un sandwich.\n",
    "Resumiendo, un algoritmo se compone de una  serie de pasos derivados de una __entrada__ y se obtiene una __salida__.\n",
    "\n",
    "<img src=\"https://sites.google.com/site/analisisydisenodealgoritmos/_/rsrc/1442336740367/home/01-los-algoritmos/Captura.PNG\" width=\"500\"/>\n",
    "\n",
    "\n",
    "\n",
    "\n"
   ]
  },
  {
   "cell_type": "markdown",
   "id": "d69b1fc2",
   "metadata": {},
   "source": [
    "## PERO BUENO, BASTA DE INTRODUCCIÓN Y COMENCEMOS A APRENDER\n",
    "Vamos a conocer un poco del lenguaje Python, este es uno de los lenguajes mas populares por su facilidad de aprender y por su potencia en areas como ciencias de datos e inteligencia artificial.\n",
    "\n",
    "Un programa de Python se puede reconocer por su extension `.py`. Por ejemplo un programa podria llamarse `programa.py`.\n",
    "Una forma para ejecutarlo es desde la terminal de la computadora, encontrandonos en la carpeta en donde guardamos el programa debemos escribir `python[version] programa.py` (ej. python3.5 programa.py)"
   ]
  },
  {
   "cell_type": "markdown",
   "id": "398c2129",
   "metadata": {},
   "source": [
    "### El programa mas sencillo: Saludando!"
   ]
  },
  {
   "cell_type": "code",
   "execution_count": null,
   "id": "0fc9e2be",
   "metadata": {},
   "outputs": [],
   "source": [
    "#Primer programa en Python\n",
    "print(\"Hello world!\")"
   ]
  },
  {
   "cell_type": "markdown",
   "id": "11b6c96e",
   "metadata": {},
   "source": [
    "##### Asi de corto y sencillo es poder enviar un mensaje en pantalla!\n",
    "##### A partir de ahora comenzaremos a ver los conceptos principales de la programación en Python"
   ]
  },
  {
   "cell_type": "markdown",
   "id": "064cb43a",
   "metadata": {},
   "source": [
    "### Indentacion\n",
    "Un programa se divide por secciones de bloques y cada bloque puede ser dividido a su vez en mas bloques. Estos contienen lineas de codigo con una función especifica en esa sección y el conjunto de bloques completan todo el algoritmo.\n",
    "\n",
    "La manera de identificar los bloques y su contenido en Python es por medio de la indentación. \n"
   ]
  },
  {
   "cell_type": "code",
   "execution_count": null,
   "id": "a36412c5",
   "metadata": {},
   "outputs": [],
   "source": [
    "#Ejemplo indentación\n",
    "#Bloque dentro de otro bloque\n",
    "variable = 0 \n",
    "Limite = 20\n",
    "while variable <= Limite: #Bloque 1 (while) mas externo sin indentacion\n",
    "    if variable%2 == 0:   #Bloque 2 (if-else) pertenece al 1, con indentacion\n",
    "        print(\"par \",variable)#Contenido del 2. Otra indentacion     \n",
    "        variable += 1\n",
    "    else: #Bloque 2 (if-else) pertenece al 1, misma indentacion\n",
    "        print(\"impar \",variable)#Contenido del 2. Otra indentacion \n",
    "        variable += 1"
   ]
  },
  {
   "cell_type": "markdown",
   "id": "063645d1",
   "metadata": {},
   "source": [
    "Es un sencillo algoritmo que muestra numeros pares e impares. Por el momento no es importante entender como funciona el codigo. Pero si como se dividen los bloques y el contenido de cada uno."
   ]
  },
  {
   "cell_type": "markdown",
   "id": "253185d8",
   "metadata": {},
   "source": [
    "### Comentarios\n",
    "Los comentarios son bastante utiles para que cualquiera que revise el código tenga una guia de como entender el funcionamiento de este. Lo comentarios solo pueden ser vistos en el editor usado para programar y no generan ninguna salida en pantalla."
   ]
  },
  {
   "cell_type": "code",
   "execution_count": null,
   "id": "bdeb8810",
   "metadata": {},
   "outputs": [],
   "source": [
    "#Comentarios (si, este es un comentario de una linea)\n",
    "#Cada comentario en una nueva linea requiere el uso de '#'\n",
    "\n",
    "\"\"\"Un comentario para multiples lineas\n",
    "requiere de las triple comillas al inicio y al \n",
    "final del comentario.\n",
    "Al momento de ejecutarse esto no se vera, pero si lo haran \n",
    "quien tenga que revisarlo\"\"\"\n",
    "\n",
    "print(\"Hola mundo. No aparecen los comentarios\")"
   ]
  },
  {
   "cell_type": "markdown",
   "id": "3b7bc63d",
   "metadata": {},
   "source": [
    "### Esperando a un usuario\n",
    "El algun punto los programas deben ser usados por los usuarios, como en un video juego o cosas mas sencillas como una calculadora. Antes de pasar a cosas mas interesantes, veremos la manera de esperar una accion del usuario; mas adelante podremos combinarlo con conocimiento mas avanzado :)"
   ]
  },
  {
   "cell_type": "code",
   "execution_count": null,
   "id": "953e5497",
   "metadata": {},
   "outputs": [],
   "source": [
    "#Esperando al usuario\n",
    "\n",
    "input(\"Presiona enter para salir\")"
   ]
  },
  {
   "cell_type": "markdown",
   "id": "6c7ed827",
   "metadata": {},
   "source": [
    "### Variables\n",
    "Una variable es algo que puede tomar cualquier valor con un nombre en particular, como las x's y las y's en matematicas que pueden tomar valores como `x = 20 o x = 5`. Puede tomar otros nombres una variable como `hola = 20 o supervariable = 1`.\n",
    "\n",
    "Esto no es distinto en programación, el concepto de variable es el mismo con la unica diferencia de que esta ocupa un espacio en __memoria__ para que pueda ser usada a lo largo del programa.\n",
    "La forma de poder crear una variable es escribiendo el nombre de esta y despues asignadole un valor (tambien se le llama iniciarlizar la variable) por medio del operador `=`"
   ]
  },
  {
   "cell_type": "code",
   "execution_count": null,
   "id": "62cefac9",
   "metadata": {},
   "outputs": [],
   "source": [
    "#Variables\n",
    "nombre = \"Antonio\" #Variable tipo cadena de caracteres\n",
    "edad = 25\n",
    "\n",
    "print(nombre)\n",
    "print(edad)\n",
    "\n",
    "#Asignacion multiple 1\n",
    "\n",
    "a = b = c = 10 #Todas tendran el mismo valor \n",
    "print(\"----\")\n",
    "print(c)\n",
    "print(a)\n",
    "\n",
    "\n",
    "\n"
   ]
  },
  {
   "cell_type": "code",
   "execution_count": null,
   "id": "d6432007",
   "metadata": {},
   "outputs": [],
   "source": [
    "#Asignacion multiple 2\n",
    "a = b = c = 10\n",
    "print(a)\n",
    "print(\"----\")\n",
    "a = b = 20#Ahora b y a valen 20 c conserva el valor de 10 \n",
    "print(c)\n",
    "print(a)\n",
    "print(b)"
   ]
  },
  {
   "cell_type": "markdown",
   "id": "38b53fdb",
   "metadata": {},
   "source": [
    "### Tipo de datos\n",
    "Las variables pueden ser de distintos tipos, esto les da una gran variedad de usos y permiten a la memoria apartar el espacio optimo necesario."
   ]
  },
  {
   "cell_type": "code",
   "execution_count": null,
   "id": "d776a3d7",
   "metadata": {},
   "outputs": [],
   "source": [
    "#Tipos de datos\n",
    "\n",
    "a = 10 #Numerico\n",
    "b = \"Texto\" #Tipo cadena\n",
    "c = [1,2, \"hola\"] #Tipo lista\n",
    "d = (1,2,\"hey!\") #Tipo tupla\n",
    "e = {\"key1\": \"hola\", \"key2\": 10}"
   ]
  },
  {
   "cell_type": "markdown",
   "id": "bc609c2c",
   "metadata": {},
   "source": [
    "#### Tipo numerico\n",
    "Existen diferentes tipos de valores numericos\n",
    "- int (enteros con signo)\n",
    "- long(enteros largos y se pueden representar en octal y hexadecimal)\n",
    "- float (numeros reales con punto flotante)\n",
    "- complex (numeros complejos)"
   ]
  },
  {
   "cell_type": "markdown",
   "id": "72b10810",
   "metadata": {},
   "source": [
    "#### Cadenas\n",
    "En programación la unidad minima de un texto es el __caracter__ y este esta representado por las comillas `\"\"`. Una __cadena__ es la suceción continua y contigua de caracteres por ejemplo:\n",
    "`\"h\"`, `\"o\"`, `\"l\"`, `\"a\"` por separado son solo caracteres. Al momento de unirlos de forma contigua y consecutiva se crea la cadena `\"hola\"`\n",
    "\n",
    "Un caracter solo ocupa por asi decirlo un espacio de la memoria, al momento de crear cadenas la memoria aparta la cantidad de memoria equivalente al numero de caracteres que estan dentro de la cadena incluyendo los espacios en blanco. Si queremos acceder a cada uno de los elementos de la cadena usamos algo llamado __indice__ el cual representa  el lugar o las \"coordenadas\" donde se encuentra el caracter. \n",
    "<img src=\"https://codingbat.com/doc/string1.png\" widht=\"500\"/>\n",
    "\n",
    "__Nota__: En programación siempre se comienza a contar desde el numero 0\n",
    "__Veamos un ejemplo__"
   ]
  },
  {
   "cell_type": "markdown",
   "id": "6ca2a6cb",
   "metadata": {},
   "source": [
    "#### Indices"
   ]
  },
  {
   "cell_type": "code",
   "execution_count": null,
   "id": "eb3b832f",
   "metadata": {},
   "outputs": [],
   "source": [
    "#Cadenas\n",
    "\n",
    "cadena = \"hola mundo!\"\n",
    "#Esta cadena cuenta con un total de 11 caracteres, 9 que son letras\n",
    "#Un espacio en blanco y el signo de admiración\n",
    "\n",
    "print(cadena) #Imprime la cadena completa\n",
    "#Con indice positivo\n",
    "print(cadena[0]) #Imprime el primer caracter con el indice 0\n",
    "print(cadena[10]) #Imprime el ultimo valor\n",
    "print(\"----\")\n",
    "#Con indice negativo, este no inicia desde cero sino desde -1\n",
    "#Veamoslo como una manera de leer la cadena en reversa\n",
    "\n",
    "print(cadena[-1]) #Imprime el ultimo valor de la cadena\n",
    "print(cadena[-11])#Imprime el primer valor de la cadena\n"
   ]
  },
  {
   "cell_type": "markdown",
   "id": "0005788d",
   "metadata": {},
   "source": [
    "#### Slicing o como extraer secciones de cadenas\n",
    "Por ejemplo si tenemos la palabra `\"Hola mundo\"`y por alguna razon queremos extraer nada mas el `hola` hacer un corte o __slicing__ es una buena manera de lograrlo.\n",
    "Funciona tomando un indice de inicio y un indice final. Para el caso de arriba se iniciaria con el indice `0`de la cadena y se terminaria con el indice siguiente al ultimo caracter que queremos tomar en este caso `4`. __Veamoslo mas claro__"
   ]
  },
  {
   "cell_type": "code",
   "execution_count": null,
   "id": "a3b8d7c1",
   "metadata": {},
   "outputs": [],
   "source": [
    "#Slicing\n",
    "\n",
    "cadena = \"Hola mundo\"\n",
    "\n",
    "print(cadena[0:4]) #0 valor desde donde se hace el corte, 4 el indice hasta donde se corta pero siempre menos 1\n",
    "print(cadena[0:3]) #Lo que regresaria si se tomara 3 como el ultimo indice\n",
    "\n",
    "nombre = \"Michael Jackson\"\n",
    "\n",
    "print(nombre[0:4])\n",
    "print(nombre[8:12])#Comienza en 8 y termina en 12 menos 1\n",
    "print(nombre[2:])#Comienza en el 2 y termina hasta el final de la lista (no se necesita poner el ultimo indice)\n",
    "print(nombre[:12])#Comienza en el inicio y termina en el 12 menos 1\n",
    "\n"
   ]
  },
  {
   "cell_type": "markdown",
   "id": "00f79349",
   "metadata": {},
   "source": [
    "#### Stride o como mostrar salteados los caracteres\n",
    "Si queremos tal vez imprimir el contenido de una cadena en saltos de dos en dos, esta opción es la indicada.\n",
    "En este caso debemos definir que parte de la cadena queremos ocupar (__slice__) y despues indicar de que tamaño seran los saltos.\n",
    "__Veamoslo mas claro__"
   ]
  },
  {
   "cell_type": "code",
   "execution_count": null,
   "id": "f8dbeffe",
   "metadata": {},
   "outputs": [],
   "source": [
    "#Stride\n",
    "nombre = \"Michael Jackson\"\n",
    "\n",
    "print(nombre[::2]) #Queremos trabajar sobre toda la cadena [:] y despues mostrar saltos de 2 en 2\n",
    "print(nombre[::3]) #Saltos de 3 en 3\n",
    "print(nombre[0:5]) #Indice que queremos trabajar de 0 a 5 menos 1\n",
    "print(nombre[0:5:2])#Mostrar saltos de 2 en 2 en ese intervalo de indices"
   ]
  },
  {
   "cell_type": "markdown",
   "id": "d70f8f64",
   "metadata": {},
   "source": [
    "#### Metodos de cadena\n",
    "Algunos metodos para poder conocer y trabajar mejor nuestras cadenas"
   ]
  },
  {
   "cell_type": "code",
   "execution_count": null,
   "id": "df1b3af5",
   "metadata": {},
   "outputs": [],
   "source": [
    "#Metodos\n",
    "\n",
    "#Conocer el tamaño de la cadena\n",
    "\n",
    "A = \"Esta es una cadena\"\n",
    "\n",
    "print(len(A)) #Metodo len para conocer tamaño, imprime el numero total de caracteres \n",
    "\n",
    "#Convertir a mayusculas, metodo upper\n",
    "print(A)\n",
    "B = A.upper()\n",
    "print(B)\n",
    "#Convertir a minusculas, metodo lower\n",
    "C = B.lower()\n",
    "print(C)\n",
    "#Remplazar partes de la cadena, metodo replace\n",
    "nuevaCadena = A.replace('cadena','cerveza') #Remplaza las coincidencias 'cadena' por la palabra 'cerveza'\n",
    "print(nuevaCadena)\n",
    "\n",
    "#Metodo find, para encontrar el indice de la primer coincidencia que se halle\n",
    "\n",
    "print(nuevaCadena.find('cerveza')) #Devuelve 12 porque es el indice de la letra c"
   ]
  },
  {
   "cell_type": "markdown",
   "id": "8550fffe",
   "metadata": {},
   "source": [
    "Estas son las primeras variables que revisaremos. Son las principales y las que nos permiten representar información util para resolver un problema. Las que siguen si son variables pero tienen funciones muy interesantes y nos serviran para realizar practicamente todo lo que nos propongamos."
   ]
  },
  {
   "cell_type": "markdown",
   "id": "6c55fc6e",
   "metadata": {},
   "source": [
    "### Estructuras. Una nueva forma de manejar la información\n",
    "A diferencia de los anteriores tipos de variables, lo que veremos a continuación son ademas algo conocido como __estructuras de datos__. Una estructura de datos es un objeto en el que podemos guardar una gran variedad de variables, cuenta con operaciones que nos permiten manipular su contenido y asi aprovechar la información de una manera muy eficiente y flexible. \n",
    "La ventaja de Python es que a diferencia de otros lenguajes estas variables/estructuras no necesitan ser programadas desde cero, ahorrandonos tiempo y esfuerzo. Cabe resaltar que existen muchas mas estructuras de datos con aplicaciones muy interesantes en una gran cantidad de ramas y que deben ser programadas la mayoria de las veces.\n",
    "\n",
    "<img src=\"https://controlautomaticoeducacion.com/wp-content/uploads/Lista-en-Python.png\" width=\"300\"/>\n"
   ]
  },
  {
   "cell_type": "markdown",
   "id": "af1dcd4d",
   "metadata": {},
   "source": [
    "### Listas\n",
    "La primera estructura que revisaremos es una de las mas utilizadas y la que nos ayudara a un monton de cosas al momento de plasmar nuestros algoritmos en codigo. \n",
    "Una __lista__ es un contenedor donde se pueden meter diversos tipos de datos, normalmente estos estan relacionados entre si y suelen ser del mismo tipo(numerico, cadena, etcetera). A este tipo de estructura junto con la tupla, el rango y el tipo de dato cadena se le denomina de tipo __secuencia__ por lo que cuentan con un valor numerico asignado a un indice como vimos con las cadenas.Las listas tienen la caracteristica principal de que son __mutables__ es decir que se puede modificar su contenido. \n",
    "\n",
    "La manera de inicializar una lista es super sencillo, solo se necesita asignarle su nombre seguido de parentesis cuadrados `[]` por ejemplo `NombreLista = []`. Las listas pueden contener variables de distintos tipos (numericos, cadenas, otras listas, etc) estan pueden ser introducidas a lo largo del programa o desde el inicio, solo basta con introducir el valor que se quiere dentro los parentesis cuadrados y cada valor debe ser separado del otro por medio de comas; por ejemplo `NombreLista = [1,3,\"cadena\",lista]`"
   ]
  },
  {
   "cell_type": "code",
   "execution_count": null,
   "id": "d633c576",
   "metadata": {},
   "outputs": [],
   "source": [
    "#Listas\n",
    "#Iniciando\n",
    "Lista1 = [] #Lista vacia\n",
    "print(Lista1)\n",
    "Lista1 = [23,34]\n",
    "#Asignandole valores a lista\n",
    "Lista2 = [1,3,4, \"Cadena\", Lista1]\n",
    "print(Lista2)"
   ]
  },
  {
   "cell_type": "markdown",
   "id": "1498888c",
   "metadata": {},
   "source": [
    "##### Accediendo a sus datos\n",
    "Al ser de tipo __secuencia__ esta estructura, cuenta un indice por el cual podemos acceder a cada uno de sus elementos, la manera de hacerlo es similar al de las cadenas:"
   ]
  },
  {
   "cell_type": "code",
   "execution_count": null,
   "id": "9418bbfc",
   "metadata": {},
   "outputs": [],
   "source": [
    "#Indice en listas\n",
    "Lista = [1,2,3,4,5]\n",
    "print(Lista[0]) #Primer elemento\n",
    "print(Lista[4]) #Ultimo elemento\n",
    "#Tambien se le puede hacer slice y stride\n",
    "print(Lista[1:]) #Desde el segundo elemento al ultimo\n",
    "\n",
    "Lista1 = [1,2,3,4,5,6,7,8,9,10]\n",
    "#Imprimir de 2 en 2\n",
    "print(Lista1[1::2])"
   ]
  },
  {
   "cell_type": "markdown",
   "id": "7c6516a5",
   "metadata": {},
   "source": [
    "##### Actualizando listas"
   ]
  },
  {
   "cell_type": "code",
   "execution_count": null,
   "id": "da44893e",
   "metadata": {},
   "outputs": [],
   "source": [
    "#Actualizando una lista\n",
    "Lista = ['letras', 'hola', 1997, 2000]\n",
    "print(Lista[2])\n",
    "Lista[2] = 2001\n",
    "print(Lista[2])"
   ]
  },
  {
   "cell_type": "markdown",
   "id": "1e9b5f7b",
   "metadata": {},
   "source": [
    "#### Eliminar elementos de una lista"
   ]
  },
  {
   "cell_type": "code",
   "execution_count": null,
   "id": "29ea6178",
   "metadata": {},
   "outputs": [],
   "source": [
    "#Eliminacion de contenido en listas\n",
    "lista = [2, 3, 1, 20];\n",
    "print(lista)\n",
    "del lista[2] #Elimino el elemento en el indice 2\n",
    "print(lista)"
   ]
  },
  {
   "cell_type": "markdown",
   "id": "1de140b8",
   "metadata": {},
   "source": [
    "#### Operaciones de listas\n",
    "- Tamaño de lista\n",
    "- Concatenacion (valido para cadenas)\n",
    "- Repetición\n",
    "- Pertenencia en la lista\n",
    "- Iteración"
   ]
  },
  {
   "cell_type": "code",
   "execution_count": null,
   "id": "d1be6f0f",
   "metadata": {},
   "outputs": [],
   "source": [
    "#Operaciones de listas\n",
    "lista = [1,2,3,4,5,6]\n",
    "#Tamaño\n",
    "print(len(lista))\n",
    "#Concatenacion\n",
    "lista = lista + [7,8,9,\"hola \"] #Agrega al final de la lista nuevos elementos \n",
    "print(lista)\n",
    "#Multiplicacion\n",
    "print(lista[9]*5)#Imprime el ultimo elemento 5 veces\n",
    "#Pertenencia\n",
    "print(\"hola \" in lista) #Regresa True en caso de que si exista ese elemento en la lista\n",
    "#Iteracion\n",
    "for i in lista:\n",
    "    print(i)  #Imprime cada uno de los elementos existentes en la lista\n",
    "\"\"\"\n",
    "No te preocupes si no entiendes la iteracion, mas adelante aprenderemos como hacerlo :)\n",
    "\"\"\""
   ]
  },
  {
   "cell_type": "markdown",
   "id": "b70d9c5d",
   "metadata": {},
   "source": [
    "#### Funciones y metodos de listas \n",
    "Sin adelantarnos tanto, una __funcion__ puede verse como un subprograma dentro de un programa, recibe información la procesa y produce una salida que puede ser utilizada por el resto del programa principal y por otras funciones. En este caso existen funciones que pueden recibir listas como entrada y producir información util para nosotros en la salida.\n",
    "Por otro lado, un __metodo__ es similar a una funcion; tiene una entrada, un codigo que procesa esa entrada y genera una salida. La diferencia en este contexto de listas radica en que una __función__ no es exclusiva de las listas, puede recibir otro tipo de parametros como otras variables u objetos. En cambio, el __metodo__ si es exclusivo de la lista debido a que este metodo pertenece al objeto lista (cuando lleguemos al tema de POO, descubriremos que todo en Python es un objeto).\n",
    "\n",
    "Algunas funciones utiles que puede ser usadas con listas son:\n",
    "- len: Como ya se ha visto anteriormente nos muestra el tamaño de la lista\n",
    "- max: Nos muestra el elemento mas grande la lista\n",
    "- min: Nos muestra el menor de los elementos\n",
    "- list: Convierte una tupla en una lista"
   ]
  },
  {
   "cell_type": "code",
   "execution_count": 7,
   "id": "0c150b26",
   "metadata": {},
   "outputs": [
    {
     "name": "stdout",
     "output_type": "stream",
     "text": [
      "6\n",
      "10\n",
      "1\n",
      "(1, 2, 3, 4, 5)\n",
      "[1, 2, 3, 4, 5]\n"
     ]
    }
   ],
   "source": [
    "#Funciones\n",
    "\n",
    "lista1 = [1,2,3,4,5,10]\n",
    "print(len(lista1)) #Tamaño de lista\n",
    "print(max(lista1)) #Muestra el valor mas grande\n",
    "print(min(lista1))\n",
    "\n",
    "tupla1=(1,2,3,4,5) #Esto es una tupla :b\n",
    "print(tupla1) #Asi se ve\n",
    "TuplaLista = list(tupla1) #Se convierte a lista\n",
    "print(TuplaLista)"
   ]
  },
  {
   "cell_type": "markdown",
   "id": "0d509566",
   "metadata": {},
   "source": [
    "Los metodos de las listas nos ayudan a manipular las listas y su contenido, algunos son:\n",
    "- append: Añade elementos a la lista pero como un solo objeto\n",
    "- count: Cuenta cuantas veces se repite un elemento en una lista\n",
    "- extend: Aumenta el contenido como un valor iterable\n",
    "- index: Si queremos encontrar el indice de un elemento este metodo nos devuelve el indice del primer valor encontrado\n",
    "- insert: Introduce un valor en un indice determinado\n",
    "- pop: Remueve y regresa el ultimo valor en una lista\n",
    "- remove: Remueve un elemento indicado\n",
    "- reverse: Invierte la lista\n",
    "- sort: Ordena los elementos de una lista"
   ]
  },
  {
   "cell_type": "code",
   "execution_count": 28,
   "id": "909edbf7",
   "metadata": {},
   "outputs": [
    {
     "name": "stdout",
     "output_type": "stream",
     "text": [
      "[1, 2, 3, [4, 5, 6]]\n",
      "[1, 2, 3, [4, 5, 6], 7, 8, 9]\n",
      "[1, 2, 3, [4, 5, 6], 7, 8, 9, 'h', 'o', 'l', 'a']\n",
      "[1, 2, 3, [4, 5, 6], 7, 8, 9, 'h', 'o', 'l', 'a', 'a']\n",
      "[1, 2, 3, [4, 5, 6], 7, 8, 9, 'h', 'o', 'l', 'o', 'a', 'a']\n",
      "[1, 2, 3, [4, 5, 6], 7, 8, 9, 'h', 'o', 'l', 'o', 'a']\n",
      "[1, 2, 3, [4, 5, 6], 7, 8, 9, 'h', 'o', 'l']\n",
      "[1, 2, 3, 7, 8, 9, 'h', 'o', 'l']\n",
      "['l', 'o', 'h', 9, 8, 7, 3, 2, 1]\n",
      "[0, 1, 2, 3, 4, 5, 6, 7, 9]\n"
     ]
    }
   ],
   "source": [
    "#Metodos\n",
    "lista = [1,2,3]\n",
    "#Append\n",
    "lista.append([4,5,6]) #La salida produce [1,2,3,[4,5,6]] debido a que el [4,5,6] lo ve como un solo elemento\n",
    "print(lista)\n",
    "#Extend\n",
    "lista.extend([7,8,9]) #La salida produce [1,2,3,[4,5,6],7,8,9] ya que considera el [7,8,9] como un elemento iterable\n",
    "print(lista)\n",
    "lista.extend('hola') #Al considerarse iterable agregara los caracteres de uno en uno como 'h' 'o' 'l' 'a'\n",
    "print(lista)\n",
    "#Count\n",
    "lista.append('a') \n",
    "print(lista)\n",
    "lista.count('a') #La salida es 2 porque hay 2 letras a\n",
    "#Index\n",
    "lista.index('a') #Devuelve el indice de la primera a encontrada\n",
    "#Insert\n",
    "lista.insert(10,'o') #Inserta la letra o en el indice 10, los valores que le siguen se conservan pero recorren su indice\n",
    "print(lista)\n",
    "#Pop\n",
    "lista.pop() #Remueve el ultimo valor y lo muestra\n",
    "print(lista)\n",
    "lista.pop()\n",
    "lista.pop()\n",
    "print(lista)\n",
    "#Remove\n",
    "lista.remove([4,5,6]) #Remueve la primera coincidencia del valor indicado\n",
    "print(lista)\n",
    "#Reverse\n",
    "lista.reverse() #Invierte el orden de la lista\n",
    "print(lista)\n",
    "#Sort\n",
    "lista2 = [6,9,4,2,5,7,0,1,3]\n",
    "lista2.sort() #Ordena la lista de manera ascendente\n",
    "print(lista2)\n",
    "\n",
    "\n"
   ]
  },
  {
   "cell_type": "markdown",
   "id": "d19b7001",
   "metadata": {},
   "source": [
    "#### Anotaciones finales sobre las listas\n",
    "- Las listas pueden ser modificadas\n",
    "- Pueden contener otras listas, tuplas, funciones, objetos y muchas cosas mas!\n",
    "- Las listas funcionan como pilas e incluso colas de datos,estructuras comunes en programacion.\n",
    "- Muchos de los problemas se pueden resolver con una lista, lo que las hace muy poderosas\n",
    "- Si quieres copiar toda una lista puedes utilizar algo como `A = B[:]`"
   ]
  },
  {
   "cell_type": "markdown",
   "id": "ad6da396",
   "metadata": {},
   "source": [
    "### Tuplas"
   ]
  },
  {
   "cell_type": "code",
   "execution_count": null,
   "id": "c5adbb62",
   "metadata": {},
   "outputs": [],
   "source": []
  }
 ],
 "metadata": {
  "kernelspec": {
   "display_name": "Python 3",
   "language": "python",
   "name": "python3"
  },
  "language_info": {
   "codemirror_mode": {
    "name": "ipython",
    "version": 3
   },
   "file_extension": ".py",
   "mimetype": "text/x-python",
   "name": "python",
   "nbconvert_exporter": "python",
   "pygments_lexer": "ipython3",
   "version": "3.6.9"
  }
 },
 "nbformat": 4,
 "nbformat_minor": 5
}
